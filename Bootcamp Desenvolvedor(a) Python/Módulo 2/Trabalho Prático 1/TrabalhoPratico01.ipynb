{
  "nbformat": 4,
  "nbformat_minor": 0,
  "metadata": {
    "colab": {
      "name": "TrabalhoPratico01.ipynb",
      "provenance": [],
      "collapsed_sections": []
    },
    "kernelspec": {
      "name": "python3",
      "display_name": "Python 3"
    },
    "language_info": {
      "name": "python"
    }
  },
  "cells": [
    {
      "cell_type": "markdown",
      "source": [
        "**Trabalho Prático**\n",
        "\n",
        "**Objetivos**\n",
        "\n",
        "Exercitar os seguintes conceitos trabalhados no Módulo:\n",
        "\n",
        "✓ Criação e manipulação de numpy arrays.\n",
        "\n",
        "✓ Leitura de dados e manipulação de DataFrames e Series no pandas.\n",
        "\n",
        "✓ Fundamentos de aprendizado de máquinas.\n",
        "\n",
        "**Enunciado**\n",
        "\n",
        "Em um ambiente de desenvolvimento em Python (recomenda-se o Google Colaboratory), execute \n",
        "e/ou complete os trechos de código contidos nas imagens."
      ],
      "metadata": {
        "id": "Hi86QS-SKjGr"
      }
    },
    {
      "cell_type": "code",
      "source": [
        "import numpy as np\n",
        "import pandas as pd"
      ],
      "metadata": {
        "id": "Ag-4nL-oLEmc"
      },
      "execution_count": 1,
      "outputs": []
    },
    {
      "cell_type": "code",
      "source": [
        "# == CÓDIGO 1 == #\n",
        "Z = np.zeros((4,))\n",
        "print(\"Z: \", Z)"
      ],
      "metadata": {
        "colab": {
          "base_uri": "https://localhost:8080/"
        },
        "id": "a65K2VFfLGu1",
        "outputId": "0bd4ed1e-934c-4407-89cf-ea11ad085d9e"
      },
      "execution_count": 2,
      "outputs": [
        {
          "output_type": "stream",
          "name": "stdout",
          "text": [
            "Z:  [0. 0. 0. 0.]\n"
          ]
        }
      ]
    },
    {
      "cell_type": "code",
      "source": [
        "# == CÓDIGO 2 == #\n",
        "Z = np.zeros((4,))\n",
        "Z[1] = 1\n",
        "print(\"Z: \", Z)"
      ],
      "metadata": {
        "colab": {
          "base_uri": "https://localhost:8080/"
        },
        "id": "sHJQQiORLJj9",
        "outputId": "2875ec2a-c773-42f1-a24e-5f2b60dbbea6"
      },
      "execution_count": 3,
      "outputs": [
        {
          "output_type": "stream",
          "name": "stdout",
          "text": [
            "Z:  [0. 1. 0. 0.]\n"
          ]
        }
      ]
    },
    {
      "cell_type": "code",
      "source": [
        "# == CÓDIGO 3 == #\n",
        "Z = np.zeros((4,))\n",
        "Z[1:] = 1\n",
        "print(\"Z: \", Z)"
      ],
      "metadata": {
        "colab": {
          "base_uri": "https://localhost:8080/"
        },
        "id": "SZGSFMGsLgVS",
        "outputId": "479141a0-acb7-469c-c984-a3366760b8ab"
      },
      "execution_count": 5,
      "outputs": [
        {
          "output_type": "stream",
          "name": "stdout",
          "text": [
            "Z:  [0. 1. 1. 1.]\n"
          ]
        }
      ]
    },
    {
      "cell_type": "code",
      "source": [
        "# == CÓDIGO 4 == #\n",
        "Z = np.zeros((4,))\n",
        "Z[:3] = 1\n",
        "# Z[:-1] = 1\n",
        "print(\"Z: \", Z)"
      ],
      "metadata": {
        "colab": {
          "base_uri": "https://localhost:8080/"
        },
        "id": "osg_N4vsLiGz",
        "outputId": "2c7e5d1c-ebd3-491c-eacd-3cd98e9f24d9"
      },
      "execution_count": 20,
      "outputs": [
        {
          "output_type": "stream",
          "name": "stdout",
          "text": [
            "Z:  [1. 1. 1. 0.]\n"
          ]
        }
      ]
    },
    {
      "cell_type": "code",
      "source": [
        "# == CÓDIGO 5 == #\n",
        "X = np.array([[2, 2], [2, 2]])\n",
        "# X = np.twos((2, 2))\n",
        "# X = np.array([2.] * 4).reshape(2, 2)\n",
        "# X = np.ones((2, 2)) + np.ones((2, 2))\n",
        "print(\"X:\\n\", X)"
      ],
      "metadata": {
        "colab": {
          "base_uri": "https://localhost:8080/"
        },
        "id": "Z3SSNOYgLnwH",
        "outputId": "6fe028d2-6416-41c3-f54e-86f2eb09b7cd"
      },
      "execution_count": 24,
      "outputs": [
        {
          "output_type": "stream",
          "name": "stdout",
          "text": [
            "X:\n",
            " [[2 2]\n",
            " [2 2]]\n"
          ]
        }
      ]
    },
    {
      "cell_type": "code",
      "source": [
        "# == CÓDIGO 6 == #\n",
        "X = np.array([[1, 2], [3, 4]])\n",
        "Y = X[0, :]\n",
        "# print(\"Y:\\n\", Y)\n",
        "Y[1] = 10\n",
        "print(\"X:\\n\", X)"
      ],
      "metadata": {
        "colab": {
          "base_uri": "https://localhost:8080/"
        },
        "id": "slZBJSn1MBoU",
        "outputId": "df1cb1d9-107b-45df-f951-e30f3b26655b"
      },
      "execution_count": 8,
      "outputs": [
        {
          "output_type": "stream",
          "name": "stdout",
          "text": [
            "X:\n",
            " [[ 1 10]\n",
            " [ 3  4]]\n"
          ]
        }
      ]
    },
    {
      "cell_type": "code",
      "source": [
        "# == CÓDIGO 7 == #\n",
        "X = np.array([[1, 3], [11, 10]])\n",
        "print(np.mean(X[X > np.pi]))"
      ],
      "metadata": {
        "colab": {
          "base_uri": "https://localhost:8080/"
        },
        "id": "e92aZdmgN7HT",
        "outputId": "baf16ae5-79bf-4595-c13c-5fd035d94a5f"
      },
      "execution_count": 9,
      "outputs": [
        {
          "output_type": "stream",
          "name": "stdout",
          "text": [
            "10.5\n"
          ]
        }
      ]
    },
    {
      "cell_type": "code",
      "source": [
        "# == CÓDIGO 8 == #\n",
        "data = {'animal': ['cat', 'cat', 'snake', 'dog', 'dog',\n",
        "                    'cat', 'snake', 'cat', 'dog', 'dog'],\n",
        "        'age': [2.5, 3, 0.5, np.nan, 5, 2, 4.5, np.nan, 7, 3],\n",
        "        'visits': [1, 3, 2, 3, 2, 3, 1, 1, 2, 1],\n",
        "        'priority': ['yes', 'yes', 'no', 'yes', 'no',\n",
        "                     'no', 'no', 'yes', 'no', 'no']}\n",
        "labels = ['a','b', 'c', 'd', 'e', 'f', 'g', 'h', 'i', 'j']"
      ],
      "metadata": {
        "id": "1RkhGLSsOOIv"
      },
      "execution_count": 15,
      "outputs": []
    },
    {
      "cell_type": "code",
      "source": [
        "# == CÓDIGO 9 == #\n",
        "df = pd.DataFrame(data=data, index=labels)\n",
        "df.shape\n",
        "df['animal'].value_counts()\n",
        "# df.describe()"
      ],
      "metadata": {
        "colab": {
          "base_uri": "https://localhost:8080/"
        },
        "id": "GNLy4WfWSaQf",
        "outputId": "95768679-a937-4479-b46f-99d09b56f780"
      },
      "execution_count": 44,
      "outputs": [
        {
          "output_type": "execute_result",
          "data": {
            "text/plain": [
              "cat      4\n",
              "dog      4\n",
              "snake    2\n",
              "Name: animal, dtype: int64"
            ]
          },
          "metadata": {},
          "execution_count": 44
        }
      ]
    },
    {
      "cell_type": "code",
      "source": [
        "# df['visits']\n",
        "# df.loc[:, 'visits']\n",
        "# df.iloc[:, 3] # Não gera a coluna 'visits'\n",
        "# df.iloc[:, -2]\n",
        "# df.sort_index(by='visits', ascending=False) # Gera erro!\n",
        "df.sort_values(by='visits', ascending=False)"
      ],
      "metadata": {
        "id": "C725v6NuX2q5"
      },
      "execution_count": null,
      "outputs": []
    },
    {
      "cell_type": "code",
      "source": [
        "# == CÓDIGO 10 == #\n",
        "y_true = np.array([1., 2., 1.])\n",
        "# y_pred = np.array([1.1, 1.98, 1.05])\n",
        "y_pred = y_true\n",
        "np.sqrt(((y_true-y_pred)**2).mean())"
      ],
      "metadata": {
        "colab": {
          "base_uri": "https://localhost:8080/"
        },
        "id": "7FvD1BAFSmps",
        "outputId": "9e60d159-7280-43bb-ffbd-7816098e6faf"
      },
      "execution_count": 43,
      "outputs": [
        {
          "output_type": "execute_result",
          "data": {
            "text/plain": [
              "0.0"
            ]
          },
          "metadata": {},
          "execution_count": 43
        }
      ]
    }
  ]
}