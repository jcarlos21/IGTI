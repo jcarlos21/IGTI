{
 "cells": [
  {
   "cell_type": "markdown",
   "metadata": {},
   "source": [
    "Desafio - Módulo 2: Python para a Análise de Dados"
   ]
  },
  {
   "cell_type": "code",
   "execution_count": 2,
   "metadata": {},
   "outputs": [],
   "source": [
    "# Importando as bibliotecas Numpy e Pandas\n",
    "import numpy as np\n",
    "import pandas as pd"
   ]
  },
  {
   "cell_type": "code",
   "execution_count": 3,
   "metadata": {},
   "outputs": [
    {
     "data": {
      "text/html": [
       "<div>\n",
       "<style scoped>\n",
       "    .dataframe tbody tr th:only-of-type {\n",
       "        vertical-align: middle;\n",
       "    }\n",
       "\n",
       "    .dataframe tbody tr th {\n",
       "        vertical-align: top;\n",
       "    }\n",
       "\n",
       "    .dataframe thead th {\n",
       "        text-align: right;\n",
       "    }\n",
       "</style>\n",
       "<table border=\"1\" class=\"dataframe\">\n",
       "  <thead>\n",
       "    <tr style=\"text-align: right;\">\n",
       "      <th></th>\n",
       "      <th>datetime</th>\n",
       "      <th>rec_id</th>\n",
       "      <th>season</th>\n",
       "      <th>year</th>\n",
       "      <th>month</th>\n",
       "      <th>hour</th>\n",
       "      <th>is_holiday</th>\n",
       "      <th>weekday</th>\n",
       "      <th>is_workingday</th>\n",
       "      <th>weather_condition</th>\n",
       "      <th>temp</th>\n",
       "      <th>atemp</th>\n",
       "      <th>humidity</th>\n",
       "      <th>windspeed</th>\n",
       "      <th>casual</th>\n",
       "      <th>registered</th>\n",
       "      <th>total_count</th>\n",
       "    </tr>\n",
       "  </thead>\n",
       "  <tbody>\n",
       "    <tr>\n",
       "      <th>0</th>\n",
       "      <td>2011-01-01</td>\n",
       "      <td>1</td>\n",
       "      <td>1</td>\n",
       "      <td>0</td>\n",
       "      <td>1</td>\n",
       "      <td>0</td>\n",
       "      <td>0</td>\n",
       "      <td>6</td>\n",
       "      <td>0</td>\n",
       "      <td>1</td>\n",
       "      <td>0.24</td>\n",
       "      <td>0.2879</td>\n",
       "      <td>0.81</td>\n",
       "      <td>0.0000</td>\n",
       "      <td>3</td>\n",
       "      <td>13</td>\n",
       "      <td>16</td>\n",
       "    </tr>\n",
       "    <tr>\n",
       "      <th>1</th>\n",
       "      <td>2011-01-01</td>\n",
       "      <td>2</td>\n",
       "      <td>1</td>\n",
       "      <td>0</td>\n",
       "      <td>1</td>\n",
       "      <td>1</td>\n",
       "      <td>0</td>\n",
       "      <td>6</td>\n",
       "      <td>0</td>\n",
       "      <td>1</td>\n",
       "      <td>0.22</td>\n",
       "      <td>0.2727</td>\n",
       "      <td>0.80</td>\n",
       "      <td>0.0000</td>\n",
       "      <td>8</td>\n",
       "      <td>32</td>\n",
       "      <td>40</td>\n",
       "    </tr>\n",
       "    <tr>\n",
       "      <th>2</th>\n",
       "      <td>2011-01-01</td>\n",
       "      <td>3</td>\n",
       "      <td>1</td>\n",
       "      <td>0</td>\n",
       "      <td>1</td>\n",
       "      <td>2</td>\n",
       "      <td>0</td>\n",
       "      <td>6</td>\n",
       "      <td>0</td>\n",
       "      <td>1</td>\n",
       "      <td>0.22</td>\n",
       "      <td>0.2727</td>\n",
       "      <td>0.80</td>\n",
       "      <td>0.0000</td>\n",
       "      <td>5</td>\n",
       "      <td>27</td>\n",
       "      <td>32</td>\n",
       "    </tr>\n",
       "    <tr>\n",
       "      <th>3</th>\n",
       "      <td>2011-01-01</td>\n",
       "      <td>4</td>\n",
       "      <td>1</td>\n",
       "      <td>0</td>\n",
       "      <td>1</td>\n",
       "      <td>3</td>\n",
       "      <td>0</td>\n",
       "      <td>6</td>\n",
       "      <td>0</td>\n",
       "      <td>1</td>\n",
       "      <td>0.24</td>\n",
       "      <td>0.2879</td>\n",
       "      <td>0.75</td>\n",
       "      <td>0.0000</td>\n",
       "      <td>3</td>\n",
       "      <td>10</td>\n",
       "      <td>13</td>\n",
       "    </tr>\n",
       "    <tr>\n",
       "      <th>4</th>\n",
       "      <td>2011-01-01</td>\n",
       "      <td>5</td>\n",
       "      <td>1</td>\n",
       "      <td>0</td>\n",
       "      <td>1</td>\n",
       "      <td>4</td>\n",
       "      <td>0</td>\n",
       "      <td>6</td>\n",
       "      <td>0</td>\n",
       "      <td>1</td>\n",
       "      <td>0.24</td>\n",
       "      <td>0.2879</td>\n",
       "      <td>0.75</td>\n",
       "      <td>0.0000</td>\n",
       "      <td>0</td>\n",
       "      <td>1</td>\n",
       "      <td>1</td>\n",
       "    </tr>\n",
       "    <tr>\n",
       "      <th>...</th>\n",
       "      <td>...</td>\n",
       "      <td>...</td>\n",
       "      <td>...</td>\n",
       "      <td>...</td>\n",
       "      <td>...</td>\n",
       "      <td>...</td>\n",
       "      <td>...</td>\n",
       "      <td>...</td>\n",
       "      <td>...</td>\n",
       "      <td>...</td>\n",
       "      <td>...</td>\n",
       "      <td>...</td>\n",
       "      <td>...</td>\n",
       "      <td>...</td>\n",
       "      <td>...</td>\n",
       "      <td>...</td>\n",
       "      <td>...</td>\n",
       "    </tr>\n",
       "    <tr>\n",
       "      <th>17374</th>\n",
       "      <td>2012-12-31</td>\n",
       "      <td>17375</td>\n",
       "      <td>1</td>\n",
       "      <td>1</td>\n",
       "      <td>12</td>\n",
       "      <td>19</td>\n",
       "      <td>0</td>\n",
       "      <td>1</td>\n",
       "      <td>1</td>\n",
       "      <td>2</td>\n",
       "      <td>0.26</td>\n",
       "      <td>0.2576</td>\n",
       "      <td>0.60</td>\n",
       "      <td>0.1642</td>\n",
       "      <td>11</td>\n",
       "      <td>108</td>\n",
       "      <td>119</td>\n",
       "    </tr>\n",
       "    <tr>\n",
       "      <th>17375</th>\n",
       "      <td>2012-12-31</td>\n",
       "      <td>17376</td>\n",
       "      <td>1</td>\n",
       "      <td>1</td>\n",
       "      <td>12</td>\n",
       "      <td>20</td>\n",
       "      <td>0</td>\n",
       "      <td>1</td>\n",
       "      <td>1</td>\n",
       "      <td>2</td>\n",
       "      <td>0.26</td>\n",
       "      <td>0.2576</td>\n",
       "      <td>0.60</td>\n",
       "      <td>0.1642</td>\n",
       "      <td>8</td>\n",
       "      <td>81</td>\n",
       "      <td>89</td>\n",
       "    </tr>\n",
       "    <tr>\n",
       "      <th>17376</th>\n",
       "      <td>2012-12-31</td>\n",
       "      <td>17377</td>\n",
       "      <td>1</td>\n",
       "      <td>1</td>\n",
       "      <td>12</td>\n",
       "      <td>21</td>\n",
       "      <td>0</td>\n",
       "      <td>1</td>\n",
       "      <td>1</td>\n",
       "      <td>1</td>\n",
       "      <td>0.26</td>\n",
       "      <td>0.2576</td>\n",
       "      <td>0.60</td>\n",
       "      <td>0.1642</td>\n",
       "      <td>7</td>\n",
       "      <td>83</td>\n",
       "      <td>90</td>\n",
       "    </tr>\n",
       "    <tr>\n",
       "      <th>17377</th>\n",
       "      <td>2012-12-31</td>\n",
       "      <td>17378</td>\n",
       "      <td>1</td>\n",
       "      <td>1</td>\n",
       "      <td>12</td>\n",
       "      <td>22</td>\n",
       "      <td>0</td>\n",
       "      <td>1</td>\n",
       "      <td>1</td>\n",
       "      <td>1</td>\n",
       "      <td>0.26</td>\n",
       "      <td>0.2727</td>\n",
       "      <td>0.56</td>\n",
       "      <td>0.1343</td>\n",
       "      <td>13</td>\n",
       "      <td>48</td>\n",
       "      <td>61</td>\n",
       "    </tr>\n",
       "    <tr>\n",
       "      <th>17378</th>\n",
       "      <td>2012-12-31</td>\n",
       "      <td>17379</td>\n",
       "      <td>1</td>\n",
       "      <td>1</td>\n",
       "      <td>12</td>\n",
       "      <td>23</td>\n",
       "      <td>0</td>\n",
       "      <td>1</td>\n",
       "      <td>1</td>\n",
       "      <td>1</td>\n",
       "      <td>0.26</td>\n",
       "      <td>0.2727</td>\n",
       "      <td>0.65</td>\n",
       "      <td>0.1343</td>\n",
       "      <td>12</td>\n",
       "      <td>37</td>\n",
       "      <td>49</td>\n",
       "    </tr>\n",
       "  </tbody>\n",
       "</table>\n",
       "<p>17379 rows × 17 columns</p>\n",
       "</div>"
      ],
      "text/plain": [
       "         datetime  rec_id  season  year  month  hour  is_holiday  weekday  \\\n",
       "0      2011-01-01       1       1     0      1     0           0        6   \n",
       "1      2011-01-01       2       1     0      1     1           0        6   \n",
       "2      2011-01-01       3       1     0      1     2           0        6   \n",
       "3      2011-01-01       4       1     0      1     3           0        6   \n",
       "4      2011-01-01       5       1     0      1     4           0        6   \n",
       "...           ...     ...     ...   ...    ...   ...         ...      ...   \n",
       "17374  2012-12-31   17375       1     1     12    19           0        1   \n",
       "17375  2012-12-31   17376       1     1     12    20           0        1   \n",
       "17376  2012-12-31   17377       1     1     12    21           0        1   \n",
       "17377  2012-12-31   17378       1     1     12    22           0        1   \n",
       "17378  2012-12-31   17379       1     1     12    23           0        1   \n",
       "\n",
       "       is_workingday  weather_condition  temp   atemp  humidity  windspeed  \\\n",
       "0                  0                  1  0.24  0.2879      0.81     0.0000   \n",
       "1                  0                  1  0.22  0.2727      0.80     0.0000   \n",
       "2                  0                  1  0.22  0.2727      0.80     0.0000   \n",
       "3                  0                  1  0.24  0.2879      0.75     0.0000   \n",
       "4                  0                  1  0.24  0.2879      0.75     0.0000   \n",
       "...              ...                ...   ...     ...       ...        ...   \n",
       "17374              1                  2  0.26  0.2576      0.60     0.1642   \n",
       "17375              1                  2  0.26  0.2576      0.60     0.1642   \n",
       "17376              1                  1  0.26  0.2576      0.60     0.1642   \n",
       "17377              1                  1  0.26  0.2727      0.56     0.1343   \n",
       "17378              1                  1  0.26  0.2727      0.65     0.1343   \n",
       "\n",
       "       casual  registered  total_count  \n",
       "0           3          13           16  \n",
       "1           8          32           40  \n",
       "2           5          27           32  \n",
       "3           3          10           13  \n",
       "4           0           1            1  \n",
       "...       ...         ...          ...  \n",
       "17374      11         108          119  \n",
       "17375       8          81           89  \n",
       "17376       7          83           90  \n",
       "17377      13          48           61  \n",
       "17378      12          37           49  \n",
       "\n",
       "[17379 rows x 17 columns]"
      ]
     },
     "execution_count": 3,
     "metadata": {},
     "output_type": "execute_result"
    }
   ],
   "source": [
    "# Importando a base de dados\n",
    "df = pd.read_csv(\"https://pycourse.s3.amazonaws.com/bike-sharing.csv\")\n",
    "# df.head(5)\n",
    "df\n",
    "# df.dtypes"
   ]
  },
  {
   "cell_type": "markdown",
   "metadata": {},
   "source": [
    "a. Qual o tamanho desse dataset?\n",
    "\n",
    "https://www.delftstack.com/pt/howto/python-pandas/how-to-get-the-row-count-of-a-pandas-dataframe/\n",
    "\n",
    "https://www.horadecodar.com.br/2021/04/20/como-saber-o-numero-de-linhas-de-um-dataframe-no-pandas/"
   ]
  },
  {
   "cell_type": "code",
   "execution_count": 4,
   "metadata": {},
   "outputs": [
    {
     "data": {
      "text/plain": [
       "(17379, 17)"
      ]
     },
     "execution_count": 4,
     "metadata": {},
     "output_type": "execute_result"
    }
   ],
   "source": [
    "# df.describe() # descreve muitos parâmetros do dataframe\n",
    "# len(df.index)\n",
    "# df['windspeed'].size\n",
    "df.shape"
   ]
  },
  {
   "cell_type": "markdown",
   "metadata": {},
   "source": [
    "b. Qual a média da coluna windspeed?"
   ]
  },
  {
   "cell_type": "code",
   "execution_count": 6,
   "metadata": {},
   "outputs": [
    {
     "data": {
      "text/plain": [
       "0.19009760630646177"
      ]
     },
     "execution_count": 6,
     "metadata": {},
     "output_type": "execute_result"
    }
   ],
   "source": [
    "df['windspeed'].mean()\n",
    "# df.describe()"
   ]
  },
  {
   "cell_type": "markdown",
   "metadata": {},
   "source": [
    "c. Qual a média da coluna temp?"
   ]
  },
  {
   "cell_type": "code",
   "execution_count": 7,
   "metadata": {},
   "outputs": [
    {
     "data": {
      "text/plain": [
       "0.4969871684216583"
      ]
     },
     "execution_count": 7,
     "metadata": {},
     "output_type": "execute_result"
    }
   ],
   "source": [
    "df['temp'].mean()"
   ]
  },
  {
   "cell_type": "markdown",
   "metadata": {},
   "source": [
    "d. Quantos registros existem para o ano de 2011? Obs: Use indexação booleana, caso seja possível usar o ano."
   ]
  },
  {
   "cell_type": "code",
   "execution_count": 8,
   "metadata": {},
   "outputs": [
    {
     "data": {
      "text/plain": [
       "datetime    8645\n",
       "dtype: int64"
      ]
     },
     "execution_count": 8,
     "metadata": {},
     "output_type": "execute_result"
    }
   ],
   "source": [
    "# Convertendo a coluna 'datetime' para datetime\n",
    "# df['datetime'].dt.year.value_counts() # Faz a contagem de todos os anos, uma vez que a coluna 'datetime' é do tipo datetime\n",
    "df['datetime'] = pd.to_datetime(df['datetime'])\n",
    "cond = df['datetime'] <= '2011-12-31'\n",
    "df.loc[cond, ['datetime']].count()\n"
   ]
  },
  {
   "cell_type": "markdown",
   "metadata": {},
   "source": [
    "e. Quantos registros existem para o ano de 2012?"
   ]
  },
  {
   "cell_type": "code",
   "execution_count": 9,
   "metadata": {},
   "outputs": [
    {
     "data": {
      "text/plain": [
       "datetime    8734\n",
       "dtype: int64"
      ]
     },
     "execution_count": 9,
     "metadata": {},
     "output_type": "execute_result"
    }
   ],
   "source": [
    "cond1 = df['datetime'] >= '2012-01-01'\n",
    "# cond2 = df['datetime'] <= '2012-12-31'\n",
    "df.loc[cond1, ['datetime']].count()"
   ]
  },
  {
   "cell_type": "markdown",
   "metadata": {},
   "source": [
    "f. Quantas locações de bicicletas foram efetuadas em 2011?"
   ]
  },
  {
   "cell_type": "code",
   "execution_count": 10,
   "metadata": {},
   "outputs": [
    {
     "data": {
      "text/plain": [
       "1243103"
      ]
     },
     "execution_count": 10,
     "metadata": {},
     "output_type": "execute_result"
    }
   ],
   "source": [
    "cond3 = df['datetime'] <= '2011-12-31'\n",
    "df.loc[cond3, ['datetime', 'total_count']]['total_count'].sum()"
   ]
  },
  {
   "cell_type": "markdown",
   "metadata": {},
   "source": [
    "g. Quantas locações de bicicletas foram efetuadas em 2012?"
   ]
  },
  {
   "cell_type": "code",
   "execution_count": 11,
   "metadata": {},
   "outputs": [
    {
     "data": {
      "text/plain": [
       "2049576"
      ]
     },
     "execution_count": 11,
     "metadata": {},
     "output_type": "execute_result"
    }
   ],
   "source": [
    "cond4 = df['datetime'] >= '2012-01-01'\n",
    "df.loc[cond4, ['datetime', 'total_count']]['total_count'].sum()"
   ]
  },
  {
   "cell_type": "markdown",
   "metadata": {},
   "source": [
    "h. Qual estação do ano contém a maior média de locações de bicicletas?"
   ]
  },
  {
   "cell_type": "code",
   "execution_count": 13,
   "metadata": {},
   "outputs": [
    {
     "name": "stdout",
     "output_type": "stream",
     "text": [
      "Media de locações no inverno: 111.11\n",
      "Media de locações na primavera: 208.34\n",
      "Media de locações na verão: 236.02\n",
      "Media de locações no outono 198.87\n",
      "O maior valor foi de 236.02, referente ao verão.\n"
     ]
    }
   ],
   "source": [
    "# Convert columns to string in Pandas\n",
    "\n",
    "df['season'] = df['season'].astype(str)\n",
    "df.dtypes\n",
    "\n",
    "# How to replace column values in a Pandas dataframe in Python\n",
    "\n",
    "df['season'].replace({\"1\": \"inverno\", \"2\": \"primavera\", \"3\": \"verão\", \"4\": \"outono\"}, inplace=True)\n",
    "df.tail(1452)\n",
    "\n",
    "# Media de locações do ano por estação\n",
    "\n",
    "def MediaPorEstacao (estacao, Meu_df):\n",
    "    cond = Meu_df['season'] == estacao\n",
    "    media = Meu_df.loc[cond, ['season', 'total_count']]['total_count'].mean()\n",
    "    return media.__round__(2)\n",
    "\n",
    "cond1 = df['season'] == 'inverno'\n",
    "media1 = df.loc[cond1, ['season', 'total_count']]['total_count'].mean()\n",
    "print(f\"Media de locações no inverno: {media1.__round__(2)}\")\n",
    "\n",
    "print(f\"Media de locações na primavera: {MediaPorEstacao('primavera', df)}\")\n",
    "print(f\"Media de locações na verão: {MediaPorEstacao('verão', df)}\")\n",
    "print(f\"Media de locações no outono {MediaPorEstacao('outono', df)}\")\n",
    "\n",
    "medias = [MediaPorEstacao('inverno', df), MediaPorEstacao('primavera', df), MediaPorEstacao('verão', df), MediaPorEstacao('outono', df)]\n",
    "\n",
    "print(f\"O maior valor foi de {max(medias)}, referente ao verão.\")\n"
   ]
  },
  {
   "cell_type": "markdown",
   "metadata": {},
   "source": [
    "i. Qual estação do ano contém a menor média de locações de bicicletas?"
   ]
  },
  {
   "cell_type": "code",
   "execution_count": 14,
   "metadata": {},
   "outputs": [
    {
     "name": "stdout",
     "output_type": "stream",
     "text": [
      "O menor valor foi de 111.11, referente ao inverno.\n"
     ]
    }
   ],
   "source": [
    "print(f\"O menor valor foi de {min(medias)}, referente ao inverno.\")"
   ]
  },
  {
   "cell_type": "markdown",
   "metadata": {},
   "source": [
    "j. Qual horário do dia contém a maior média de locações de bicicletas?"
   ]
  },
  {
   "cell_type": "code",
   "execution_count": 15,
   "metadata": {},
   "outputs": [
    {
     "name": "stdout",
     "output_type": "stream",
     "text": [
      "{0: 53.9, 1: 33.38, 2: 22.87, 3: 11.73, 4: 6.35, 5: 19.89, 6: 76.04, 7: 212.06, 8: 359.01, 9: 219.31, 10: 173.67, 11: 208.14, 12: 253.32, 13: 253.66, 14: 240.95, 15: 251.23, 16: 311.98, 17: 461.45, 18: 425.51, 19: 311.52, 20: 226.03, 21: 172.31, 22: 131.34, 23: 87.83}\n",
      "\n",
      "A hora do dia que teve a maior media de locações foi as 17 horas, com média de 461.45.\n"
     ]
    }
   ],
   "source": [
    "def MediaPorHora (hora, Meu_df):\n",
    "    cond = Meu_df['hour'] == hora\n",
    "    media = Meu_df.loc[cond, ['hour', 'total_count']]['total_count'].mean()\n",
    "    return media.__round__(2)\n",
    "\n",
    "DictMediasPorHora = dict()\n",
    "\n",
    "for hora in range(0, 24):\n",
    "    DictMediasPorHora[hora] = MediaPorHora(hora, df)\n",
    "\n",
    "maximo = max(DictMediasPorHora.values())\n",
    "print(DictMediasPorHora)\n",
    "horaDoDia = max(DictMediasPorHora, key=DictMediasPorHora.get)\n",
    "\n",
    "print(f'\\nA hora do dia que teve a maior media de locações foi as {horaDoDia} horas, com média de {maximo}.')"
   ]
  },
  {
   "cell_type": "markdown",
   "metadata": {},
   "source": [
    "k. Qual horário do dia contém a menor média de locações de bicicletas?"
   ]
  },
  {
   "cell_type": "code",
   "execution_count": 16,
   "metadata": {},
   "outputs": [
    {
     "name": "stdout",
     "output_type": "stream",
     "text": [
      "{0: 53.9, 1: 33.38, 2: 22.87, 3: 11.73, 4: 6.35, 5: 19.89, 6: 76.04, 7: 212.06, 8: 359.01, 9: 219.31, 10: 173.67, 11: 208.14, 12: 253.32, 13: 253.66, 14: 240.95, 15: 251.23, 16: 311.98, 17: 461.45, 18: 425.51, 19: 311.52, 20: 226.03, 21: 172.31, 22: 131.34, 23: 87.83}\n",
      "\n",
      "A hora do dia que teve a menor media de locações foi as 4 horas, com média de 6.35.\n"
     ]
    }
   ],
   "source": [
    "minimo = min(DictMediasPorHora.values())\n",
    "print(DictMediasPorHora)\n",
    "horaDoDia = min(DictMediasPorHora, key=DictMediasPorHora.get)\n",
    "print(f'\\nA hora do dia que teve a menor media de locações foi as {horaDoDia} horas, com média de {minimo}.')"
   ]
  },
  {
   "cell_type": "markdown",
   "metadata": {},
   "source": [
    "l. Que dia da semana contém a maior média de locações de bicicletas?"
   ]
  },
  {
   "cell_type": "code",
   "execution_count": 20,
   "metadata": {},
   "outputs": [
    {
     "name": "stdout",
     "output_type": "stream",
     "text": [
      "{'domingo': 177.47, 'segunda-feira': 183.74, 'terça-feira': 191.24, 'quarta-feira': 191.13, 'quinta-feira': 196.44, 'sexta-feira': 196.14, 'sábado': 190.21}\n",
      "\n",
      "O dia da semana que teve a maior media de locações foi quinta-feira, com média de 196.44.\n"
     ]
    }
   ],
   "source": [
    "# How to replace column values in a Pandas dataframe in Python\n",
    "\n",
    "df['weekday'].replace({0: \"domingo\", 1: \"segunda-feira\", 2: \"terça-feira\", 3: \"quarta-feira\", 4: \"quinta-feira\", 5: \"sexta-feira\", 6: \"sábado\"}, inplace=True)\n",
    "df.tail(1452)\n",
    "\n",
    "MediaPorDia = lambda dia, Meu_df: Meu_df.loc[Meu_df['weekday'] == dia, ['weekday', 'total_count']]['total_count'].mean().__round__(2)\n",
    "\n",
    "DictMediasPorDia = dict()\n",
    "\n",
    "for dia in [\"domingo\", \"segunda-feira\", \"terça-feira\", \"quarta-feira\", \"quinta-feira\", \"sexta-feira\", \"sábado\"]:\n",
    "    DictMediasPorDia[dia] = MediaPorDia(dia, df)\n",
    "\n",
    "print(DictMediasPorDia)\n",
    "maximo = max(DictMediasPorDia.values())\n",
    "diaSemana = max(DictMediasPorDia, key=DictMediasPorDia.get)\n",
    "print(f'\\nO dia da semana que teve a maior media de locações foi {diaSemana}, com média de {maximo}.')\n"
   ]
  },
  {
   "cell_type": "markdown",
   "metadata": {},
   "source": [
    "m. Que dia da semana contém a menor média de locações de bicicletas?"
   ]
  },
  {
   "cell_type": "code",
   "execution_count": 57,
   "metadata": {},
   "outputs": [
    {
     "name": "stdout",
     "output_type": "stream",
     "text": [
      "\n",
      "O dia da semana que teve a menor media de locações foi domingo, com média de 177.47.\n"
     ]
    }
   ],
   "source": [
    "minimo = min(DictMediasPorDia.values())\n",
    "diaSemana = min(DictMediasPorDia, key=DictMediasPorDia.get)\n",
    "print(f'\\nO dia da semana que teve a menor media de locações foi {diaSemana}, com média de {minimo}.')"
   ]
  },
  {
   "cell_type": "markdown",
   "metadata": {},
   "source": [
    "n. Às quartas-feiras (weekday = 3), qual o horário do dia que contém a maior média de locações de bicicletas?"
   ]
  },
  {
   "cell_type": "code",
   "execution_count": 83,
   "metadata": {},
   "outputs": [
    {
     "name": "stdout",
     "output_type": "stream",
     "text": [
      "{0: 34.56, 1: 15.34, 2: 7.81, 3: 4.89, 4: 4.97, 5: 25.75, 6: 107.81, 7: 303.98, 8: 488.33, 9: 238.53, 10: 131.89, 11: 152.2, 12: 193.9, 13: 185.83, 14: 170.55, 15: 181.29, 16: 272.96, 17: 513.14, 18: 494.03, 19: 357.5, 20: 256.66, 21: 194.67, 22: 143.69, 23: 83.74}\n",
      "\n",
      "Na quarta-feira, o horário do dia que onde há a maior média é as 17 horas, com média de 513.14.\n"
     ]
    }
   ],
   "source": [
    "cond = df['weekday'] == 'quarta-feira'\n",
    "df2 = df.loc[cond, ['weekday', 'hour', 'total_count']]  # retorna um novo dataframe com dados do dia de quarta-feira\n",
    "\n",
    "MediaPorHoraQuartaFeira = lambda hora, Meu_df: Meu_df.loc[Meu_df['hour'] == hora, ['hour', 'total_count']]['total_count'].mean().__round__(2)\n",
    "DictMediaPorHoraQuartaFeira = dict()\n",
    "\n",
    "for hora in range(0, 24):\n",
    "    DictMediaPorHoraQuartaFeira[hora] = MediaPorHoraQuartaFeira(hora, df2)\n",
    "\n",
    "print(DictMediaPorHoraQuartaFeira)\n",
    "\n",
    "maximo = max(DictMediaPorHoraQuartaFeira.values())\n",
    "horaDiaQuartaFeira = max(DictMediaPorHoraQuartaFeira, key=DictMediaPorHoraQuartaFeira.get)\n",
    "\n",
    "print(f'\\nNa quarta-feira, o horário do dia onde há a maior média é as {horaDiaQuartaFeira} horas, com média de {maximo}.')"
   ]
  },
  {
   "cell_type": "markdown",
   "metadata": {},
   "source": [
    "o. Aos sábados (weekday = 6), qual o horário do dia que contém a maior média de locações de bicicletas?"
   ]
  },
  {
   "cell_type": "code",
   "execution_count": 90,
   "metadata": {},
   "outputs": [
    {
     "name": "stdout",
     "output_type": "stream",
     "text": [
      "{0: 94.3, 1: 67.78, 2: 50.5, 3: 22.89, 4: 7.66, 5: 8.29, 6: 21.0, 7: 45.96, 8: 114.48, 9: 186.79, 10: 263.72, 11: 328.61, 12: 375.38, 13: 385.37, 14: 381.33, 15: 382.43, 16: 366.14, 17: 334.41, 18: 292.05, 19: 239.93, 20: 180.87, 21: 156.0, 22: 139.66, 23: 115.86}\n",
      "\n",
      "No sábado, o horário do dia onde há a maior média é as 13 horas, com média de 385.37.\n"
     ]
    }
   ],
   "source": [
    "cond = df['weekday'] == 'sábado'\n",
    "df3 = df.loc[cond, ['weekday', 'hour', 'total_count']]  # retorna um novo dataframe com dados do dia de quarta-feira\n",
    "\n",
    "mediaPorHoraSabado = lambda hora, Meu_df: Meu_df.loc[Meu_df['hour'] == hora, ['hour', 'total_count']]['total_count'].mean().__round__(2)\n",
    "dictMediaPorHoraSabado = dict()\n",
    "\n",
    "for hora in range(0, 24):\n",
    "    dictMediaPorHoraSabado[hora] = mediaPorHoraSabado(hora, df3)\n",
    "\n",
    "print(dictMediaPorHoraSabado)\n",
    "# print(df3.describe())\n",
    "maximo = max(dictMediaPorHoraSabado.values())\n",
    "horaDiaSabado = max(dictMediaPorHoraSabado, key=dictMediaPorHoraSabado.get)\n",
    "\n",
    "print(f'\\nNo sábado, o horário do dia onde há a maior média é as {horaDiaSabado} horas, com média de {maximo}.')"
   ]
  }
 ],
 "metadata": {
  "kernelspec": {
   "display_name": "Python 3.10.5 ('carlospy')",
   "language": "python",
   "name": "python3"
  },
  "language_info": {
   "codemirror_mode": {
    "name": "ipython",
    "version": 3
   },
   "file_extension": ".py",
   "mimetype": "text/x-python",
   "name": "python",
   "nbconvert_exporter": "python",
   "pygments_lexer": "ipython3",
   "version": "3.10.5"
  },
  "orig_nbformat": 4,
  "vscode": {
   "interpreter": {
    "hash": "7a7924d91729009130cebbfc29a43e3c5a3ab758272a7da71584a1bdf30c290e"
   }
  }
 },
 "nbformat": 4,
 "nbformat_minor": 2
}
