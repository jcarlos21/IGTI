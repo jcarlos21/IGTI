{
  "nbformat": 4,
  "nbformat_minor": 0,
  "metadata": {
    "colab": {
      "name": "Desafio.ipynb",
      "provenance": [],
      "collapsed_sections": []
    },
    "kernelspec": {
      "name": "python3",
      "display_name": "Python 3"
    },
    "language_info": {
      "name": "python"
    }
  },
  "cells": [
    {
      "cell_type": "markdown",
      "source": [
        "**Atividade 01**. Execute e analise a saída do seguinte código no Google Colab1."
      ],
      "metadata": {
        "id": "mU1lWAFmJl_h"
      }
    },
    {
      "cell_type": "code",
      "source": [
        "# relação dos nomes\n",
        "nomes = ['Maria', 'Julieta', 'Fernando', 'Cristiano', 'Julieta', 'Maria', 'Fernando', 'Cláudio']\n",
        "\n",
        "# estrutura que irá armazenar o número de letras de cada nome\n",
        "qtd_letras = {}\n",
        "# calcula o tamanho de cada nome (em número de letras) e armazena o valor na estrutura\n",
        "for nome in nomes:\n",
        "    qtd_letras[nome] = len(nome)\n",
        "qtd_letras"
      ],
      "metadata": {
        "colab": {
          "base_uri": "https://localhost:8080/"
        },
        "id": "0jXZlopFJiVI",
        "outputId": "29594691-8489-494f-fa82-5d85dbd0ab65"
      },
      "execution_count": null,
      "outputs": [
        {
          "output_type": "execute_result",
          "data": {
            "text/plain": [
              "{'Cláudio': 7, 'Cristiano': 9, 'Fernando': 8, 'Julieta': 7, 'Maria': 5}"
            ]
          },
          "metadata": {},
          "execution_count": 6
        }
      ]
    },
    {
      "cell_type": "markdown",
      "source": [
        "**Atividade 02**. Reescreva o código da Atividade 01 utilizando o conceito de compreensão de dicionários (dict comprehension)."
      ],
      "metadata": {
        "id": "HS0JZEjPLPsa"
      }
    },
    {
      "cell_type": "code",
      "source": [
        "nomes = ['Maria', 'Julieta', 'Fernando', 'Cristiano', 'Julieta', 'Maria', 'Fernando', 'Cláudio']\n",
        "qtd_letras = {nome: len(nome) for nome in nomes}\n",
        "qtd_letras"
      ],
      "metadata": {
        "colab": {
          "base_uri": "https://localhost:8080/"
        },
        "id": "qxXiiTyiKJgi",
        "outputId": "ff338b28-5763-4641-eaeb-ad42e5bb4f6c"
      },
      "execution_count": null,
      "outputs": [
        {
          "output_type": "execute_result",
          "data": {
            "text/plain": [
              "{'Cláudio': 7, 'Cristiano': 9, 'Fernando': 8, 'Julieta': 7, 'Maria': 5}"
            ]
          },
          "metadata": {},
          "execution_count": 7
        }
      ]
    },
    {
      "cell_type": "markdown",
      "source": [
        "**Atividade 03**. Crie uma função area(r, pi), que calcule a área de um círculo.\n",
        "\n",
        "A área de um círculo é dada por 𝑎= 𝜋𝑟2, onde:\n",
        "\n",
        "▪ 𝜋 é o número pi, cujo valor é ~3,14159265359\n",
        "\n",
        "▪ 𝑟 é o raio do círculo\n",
        "\n",
        "Esta função deve receber dois argumentos, r e pi, e retornar a área de um\n",
        "círculo com raio r. Entretanto, você deve fornecer duas opções de utilização\n",
        "da função:\n",
        "\n",
        "a) A utilização de um valor padrão para pi (𝜋=3,14), sem a necessidade de declarar explicitamente o seu valor;\n",
        "\n",
        "b) A utilização com a declaração explicita do valor exato de pi desejado.\n",
        "\n",
        "Por exemplo, para um raio 𝑟 = 8, o usuário poderá utilizar a sua função das \n",
        "seguintes maneiras:\n",
        "\n",
        "- Utilização da função sem declarar pi\n",
        "- Neste caso o valor de pi deverá ser 3.14 e o resultado: 3.14 * (8 ** 2)\n",
        "  \n",
        "   area(8)\n",
        "\n",
        "- Utilização da função declarando explicitamente o valor de pi\n",
        "- Neste caso o valor de pi deverá ser 3,141592 e o resultado: 3,141592 * (8 ** 2)\n",
        "\n",
        "   area(8, 3,141592)\n",
        "\n",
        "DICA: Para resolver esse problema, utilize o conceito de argumentos padrões (default)."
      ],
      "metadata": {
        "id": "wtQ-NqdXLmHe"
      }
    },
    {
      "cell_type": "code",
      "source": [
        "def areaCirculo(raio, pi=3.14):\n",
        "    return pi * (raio ** 2)\n",
        "    \n",
        "areaCirculo(8, 3.141592)"
      ],
      "metadata": {
        "colab": {
          "base_uri": "https://localhost:8080/"
        },
        "id": "n18DGIL6MOdn",
        "outputId": "9e36af87-65d3-40cc-eb9d-8225a79d4c8c"
      },
      "execution_count": null,
      "outputs": [
        {
          "output_type": "execute_result",
          "data": {
            "text/plain": [
              "201.061888"
            ]
          },
          "metadata": {},
          "execution_count": 15
        }
      ]
    },
    {
      "cell_type": "markdown",
      "source": [
        "**Atividade 04**. Reescreva a função area da atividade 3, utilizando o conceito de funções anônimas (funções lambdas)."
      ],
      "metadata": {
        "id": "_OEjk3f1QKbO"
      }
    },
    {
      "cell_type": "code",
      "source": [
        "areaCirculo = lambda raio, pi = 3.14: pi * (raio ** 2)\n",
        "areaCirculo(8)"
      ],
      "metadata": {
        "id": "CMFrbaP7QNut",
        "colab": {
          "base_uri": "https://localhost:8080/"
        },
        "outputId": "869af7b9-e912-4176-b87c-3277d69d5f94"
      },
      "execution_count": null,
      "outputs": [
        {
          "output_type": "execute_result",
          "data": {
            "text/plain": [
              "200.96"
            ]
          },
          "metadata": {},
          "execution_count": 21
        }
      ]
    },
    {
      "cell_type": "markdown",
      "source": [
        "**Atividade 05**. Crie um módulo em Python, chamado processalista (arquivo processalista.py), com as seguintes funções, que deverão receber como argumento uma lista (tipo list) de números inteiros."
      ],
      "metadata": {
        "id": "4Ra70h5ISqWe"
      }
    },
    {
      "cell_type": "code",
      "source": [
        "lista = [2, 3, 4, 7, 8, 5, 10]\n",
        "\n",
        "import processalista as pl\n",
        "\n",
        "pl.maior_impar(lista)\n",
        "# pl.menor_impar(lista)"
      ],
      "metadata": {
        "id": "TDavBcdqSr5F"
      },
      "execution_count": null,
      "outputs": []
    },
    {
      "cell_type": "markdown",
      "source": [
        "**Atividade 06**. Considere a seguinte agenda de disponibilidade de atendimento de uma clínica com vários médicos, cada um de uma especialidade distinta. Esta clínica possuí apenas três consultórios, e, por isso, no máximo três médicos podem atender por dia."
      ],
      "metadata": {
        "id": "gDRt6r9nWj9r"
      }
    },
    {
      "cell_type": "code",
      "source": [
        "# relação de dias da semana que cada médico atende\n",
        "cardiologista = {'terca', 'quarta'}\n",
        "ortopedista = {'terca', 'quinta'}\n",
        "dermatologista = {'segunda', 'quarta', 'sexta'}\n",
        "neurologista = {'terca', 'quinta', 'sexta'}\n",
        "psiquiatra = {'segunda', 'quarta', 'sexta'}\n",
        "\n",
        "# Calcula quais os dias possíveis para dois médicos\n",
        "def disp_dois_especialistas(medico01, medico02):\n",
        "    return medico01 & medico02\n",
        "\n",
        "# Calcula quais os dias possíveis para três médicos\n",
        "def disp_tres_especialistas(medico01, medico02, medico03):\n",
        "    return medico01 & medico02 & medico03\n",
        "\n",
        "disp_dois_especialistas(ortopedista, neurologista)\n",
        "\n",
        "disp_tres_especialistas(dermatologista, neurologista, psiquiatra)"
      ],
      "metadata": {
        "id": "IKAO4tyzX_d7",
        "colab": {
          "base_uri": "https://localhost:8080/"
        },
        "outputId": "1949c7a0-e964-4c34-87bf-6aeb5d252ed0"
      },
      "execution_count": 45,
      "outputs": [
        {
          "output_type": "execute_result",
          "data": {
            "text/plain": [
              "{'sexta'}"
            ]
          },
          "metadata": {},
          "execution_count": 45
        }
      ]
    }
  ]
}